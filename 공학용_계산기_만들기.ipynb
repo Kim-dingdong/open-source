{
  "nbformat": 4,
  "nbformat_minor": 0,
  "metadata": {
    "colab": {
      "provenance": [],
      "authorship_tag": "ABX9TyNOu8r0HX9Hro4D/FgJM1EP",
      "include_colab_link": true
    },
    "kernelspec": {
      "name": "python3",
      "display_name": "Python 3"
    },
    "language_info": {
      "name": "python"
    }
  },
  "cells": [
    {
      "cell_type": "markdown",
      "metadata": {
        "id": "view-in-github",
        "colab_type": "text"
      },
      "source": [
        "<a href=\"https://colab.research.google.com/github/rlaehdel/open-source/blob/main/%EA%B3%B5%ED%95%99%EC%9A%A9_%EA%B3%84%EC%82%B0%EA%B8%B0_%EB%A7%8C%EB%93%A4%EA%B8%B0.ipynb\" target=\"_parent\"><img src=\"https://colab.research.google.com/assets/colab-badge.svg\" alt=\"Open In Colab\"/></a>"
      ]
    },
    {
      "cell_type": "markdown",
      "source": [
        "#공학용 계산기 개발의 필요성\n",
        "본 프로젝트는 많은 학생들이 공학용 계산기를 구매해야 한다는 문제를 해결하기위해 만들어 졌습니다. 예를들면 $x^6$ 을 개발하는게 어렵습니다."
      ],
      "metadata": {
        "id": "GlTwpAt0E50Z"
      }
    },
    {
      "cell_type": "markdown",
      "source": [
        "#초기값 입력\n",
        "원하는 값을 설정해주세요"
      ],
      "metadata": {
        "id": "yG0RkEriI8jo"
      }
    },
    {
      "cell_type": "markdown",
      "source": [],
      "metadata": {
        "id": "Y7Zqg2D4I8gB"
      }
    },
    {
      "cell_type": "code",
      "source": [
        "no_type_checking = ''  # @param\n",
        "string_type = 'example'  # @param {type: \"string\"}\n",
        "slider_value = 142  # @param {type: \"slider\", min: 100, max: 200}\n",
        "y = 300  # @param {type: \"number\"}\n",
        "x = 200  # @param {type: \"number\"}\n",
        "date = '2010-11-05'  # @param {type: \"date\"}\n",
        "pick_me = \"monday\"  # @param ['monday', 'tuesday', 'wednesday', 'thursday']\n",
        "select_or_input = \"apples\" # @param [\"apples\", \"bananas\", \"oranges\"] {allow-input: true}\n",
        "# @markdown ---\n"
      ],
      "metadata": {
        "id": "aQCINwu8JLVe"
      },
      "execution_count": 11,
      "outputs": []
    },
    {
      "cell_type": "markdown",
      "source": [],
      "metadata": {
        "id": "VghDT9_RI61L"
      }
    },
    {
      "cell_type": "code",
      "source": [
        "x=20"
      ],
      "metadata": {
        "id": "fui7QtTaPaLs"
      },
      "execution_count": 14,
      "outputs": []
    },
    {
      "cell_type": "markdown",
      "source": [
        "##지수 값 구하기"
      ],
      "metadata": {
        "id": "HVPqNHv_Fm-f"
      }
    },
    {
      "cell_type": "code",
      "execution_count": 17,
      "metadata": {
        "colab": {
          "base_uri": "https://localhost:8080/"
        },
        "id": "48jQqGNLBoT9",
        "outputId": "72dd2d3d-91f3-4831-bc28-d4670ec67ac0"
      },
      "outputs": [
        {
          "output_type": "stream",
          "name": "stdout",
          "text": [
            "너무 큰 수를 입력했습니다\n"
          ]
        }
      ],
      "source": [
        "x6 = x*x*x*x*x*x\n",
        "x6\n",
        "\n",
        "if x6 > 2000:\n",
        " print('너무 큰 수를 입력했습니다')"
      ]
    },
    {
      "cell_type": "code",
      "source": [
        " x6"
      ],
      "metadata": {
        "colab": {
          "base_uri": "https://localhost:8080/"
        },
        "id": "sr-n5cO9Gqkx",
        "outputId": "f5035001-f496-4ccb-aa41-7e1328dae1b6"
      },
      "execution_count": 18,
      "outputs": [
        {
          "output_type": "execute_result",
          "data": {
            "text/plain": [
              "64000000"
            ]
          },
          "metadata": {},
          "execution_count": 18
        }
      ]
    }
  ]
}